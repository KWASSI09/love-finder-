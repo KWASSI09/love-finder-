{
 "cells": [
  {
   "cell_type": "code",
   "execution_count": 301,
   "outputs": [],
   "source": [
    "# Dependencies\n",
    "import os\n",
    "import pandas as pd\n",
    "from bs4 import BeautifulSoup as bs"
   ],
   "metadata": {
    "collapsed": false,
    "pycharm": {
     "name": "#%%\n"
    }
   }
  },
  {
   "cell_type": "code",
   "execution_count": 302,
   "outputs": [],
   "source": [
    "# Read HTML from file\n",
    "filepath = os.path.join(\"resources/template.html\")\n",
    "with open(filepath) as file:\n",
    "    html = file.read()"
   ],
   "metadata": {
    "collapsed": false,
    "pycharm": {
     "name": "#%%\n"
    }
   }
  },
  {
   "cell_type": "code",
   "execution_count": 303,
   "outputs": [],
   "source": [
    "# Create a Beautiful Soup Object\n",
    "soup = bs(html, 'html.parser')"
   ],
   "metadata": {
    "collapsed": false,
    "pycharm": {
     "name": "#%%\n"
    }
   }
  },
  {
   "cell_type": "code",
   "execution_count": 304,
   "outputs": [
    {
     "name": "stdout",
     "output_type": "stream",
     "text": [
      "1. Badoo — 480M Users\n",
      "2. Tinder — 300M Users\n",
      "3. Plenty of Fish — 150M Users\n",
      "4. Bumble — 100 M Users\n",
      "5. Adult Friend Finder — 99M Users\n",
      "6. MenNation — 99M Users\n",
      "7. Match — 96M Users\n",
      "8. Ashley Madison — 65M Users\n",
      "9. Happn — 50M Users\n",
      "10. Zoosk — 40M Users\n",
      "11. eharmony — 37M Users\n",
      "12. OkCupid — 30M Users\n",
      "13. Grindr — 27M Users\n",
      "14. Coffee Meets Bagel — 21M Users\n",
      "15. ChristianMingle — 16M Users\n",
      "16. BeNaughty — 13.3M Users\n",
      "17. EliteSingles — 13M Users\n",
      "18. OurTime — 8.9M Users\n",
      "19. BlackPeopleMeet — 5.7M Users\n",
      "20. Hinge — 5.5M Users\n",
      "21. HER — 4M Users\n",
      "22. SilverSingles — 800,000 Users\n",
      "23. LesbianPersonals — 500,000 Users\n",
      "24. FriendFinder-X — 40,000 Users\n"
     ]
    }
   ],
   "source": [
    "# Extract dating apps names and amount of their users from headlines\n",
    "apps_and_users = soup.body.find_all('h2')[:24]\n",
    "for t in apps_and_users:\n",
    "    print(t.text)"
   ],
   "metadata": {
    "collapsed": false,
    "pycharm": {
     "name": "#%%\n"
    }
   }
  },
  {
   "cell_type": "code",
   "execution_count": 314,
   "outputs": [
    {
     "data": {
      "text/plain": "                    App  Users in million\n0                 Badoo            480.00\n1                Tinder            300.00\n2        Plenty of Fish            150.00\n3                Bumble            100.00\n4   Adult Friend Finder             99.00\n5             MenNation             99.00\n6                 Match             96.00\n7        Ashley Madison             65.00\n8                 Happn             50.00\n9                 Zoosk             40.00\n10             eharmony             37.00\n11              OkCupid             30.00\n12               Grindr             27.00\n13   Coffee Meets Bagel             21.00\n14      ChristianMingle             16.00\n15            BeNaughty             13.30\n16         EliteSingles             13.00\n17              OurTime              8.90\n18      BlackPeopleMeet              5.70\n19                Hinge              5.50\n20                  HER              4.00\n21        SilverSingles              0.80\n22     LesbianPersonals              0.50\n23       FriendFinder-X              0.04",
      "text/html": "<div>\n<style scoped>\n    .dataframe tbody tr th:only-of-type {\n        vertical-align: middle;\n    }\n\n    .dataframe tbody tr th {\n        vertical-align: top;\n    }\n\n    .dataframe thead th {\n        text-align: right;\n    }\n</style>\n<table border=\"1\" class=\"dataframe\">\n  <thead>\n    <tr style=\"text-align: right;\">\n      <th></th>\n      <th>App</th>\n      <th>Users in million</th>\n    </tr>\n  </thead>\n  <tbody>\n    <tr>\n      <th>0</th>\n      <td>Badoo</td>\n      <td>480.00</td>\n    </tr>\n    <tr>\n      <th>1</th>\n      <td>Tinder</td>\n      <td>300.00</td>\n    </tr>\n    <tr>\n      <th>2</th>\n      <td>Plenty of Fish</td>\n      <td>150.00</td>\n    </tr>\n    <tr>\n      <th>3</th>\n      <td>Bumble</td>\n      <td>100.00</td>\n    </tr>\n    <tr>\n      <th>4</th>\n      <td>Adult Friend Finder</td>\n      <td>99.00</td>\n    </tr>\n    <tr>\n      <th>5</th>\n      <td>MenNation</td>\n      <td>99.00</td>\n    </tr>\n    <tr>\n      <th>6</th>\n      <td>Match</td>\n      <td>96.00</td>\n    </tr>\n    <tr>\n      <th>7</th>\n      <td>Ashley Madison</td>\n      <td>65.00</td>\n    </tr>\n    <tr>\n      <th>8</th>\n      <td>Happn</td>\n      <td>50.00</td>\n    </tr>\n    <tr>\n      <th>9</th>\n      <td>Zoosk</td>\n      <td>40.00</td>\n    </tr>\n    <tr>\n      <th>10</th>\n      <td>eharmony</td>\n      <td>37.00</td>\n    </tr>\n    <tr>\n      <th>11</th>\n      <td>OkCupid</td>\n      <td>30.00</td>\n    </tr>\n    <tr>\n      <th>12</th>\n      <td>Grindr</td>\n      <td>27.00</td>\n    </tr>\n    <tr>\n      <th>13</th>\n      <td>Coffee Meets Bagel</td>\n      <td>21.00</td>\n    </tr>\n    <tr>\n      <th>14</th>\n      <td>ChristianMingle</td>\n      <td>16.00</td>\n    </tr>\n    <tr>\n      <th>15</th>\n      <td>BeNaughty</td>\n      <td>13.30</td>\n    </tr>\n    <tr>\n      <th>16</th>\n      <td>EliteSingles</td>\n      <td>13.00</td>\n    </tr>\n    <tr>\n      <th>17</th>\n      <td>OurTime</td>\n      <td>8.90</td>\n    </tr>\n    <tr>\n      <th>18</th>\n      <td>BlackPeopleMeet</td>\n      <td>5.70</td>\n    </tr>\n    <tr>\n      <th>19</th>\n      <td>Hinge</td>\n      <td>5.50</td>\n    </tr>\n    <tr>\n      <th>20</th>\n      <td>HER</td>\n      <td>4.00</td>\n    </tr>\n    <tr>\n      <th>21</th>\n      <td>SilverSingles</td>\n      <td>0.80</td>\n    </tr>\n    <tr>\n      <th>22</th>\n      <td>LesbianPersonals</td>\n      <td>0.50</td>\n    </tr>\n    <tr>\n      <th>23</th>\n      <td>FriendFinder-X</td>\n      <td>0.04</td>\n    </tr>\n  </tbody>\n</table>\n</div>"
     },
     "execution_count": 314,
     "metadata": {},
     "output_type": "execute_result"
    }
   ],
   "source": [
    "data = {'App':['Badoo', 'Tinder', 'Plenty of Fish', 'Bumble', 'Adult Friend Finder','MenNation','Match','Ashley Madison','Happn','Zoosk','eharmony','OkCupid','Grindr','Coffee Meets Bagel','ChristianMingle','BeNaughty','EliteSingles','OurTime','BlackPeopleMeet','Hinge','HER','SilverSingles','LesbianPersonals','FriendFinder-X'], 'Users in million':[480, 300, 150, 100, 99, 99, 96, 65, 50, 40, 37, 30, 27, 21, 16, 13.3, 13, 8.9, 5.7, 5.5, 4, 0.8, 0.5, 0.04]}\n",
    "\n",
    "# Create DataFrame\n",
    "data_df = pd.DataFrame(data)\n",
    "data_df"
   ],
   "metadata": {
    "collapsed": false,
    "pycharm": {
     "name": "#%%\n"
    }
   }
  },
  {
   "cell_type": "code",
   "execution_count": 306,
   "metadata": {
    "collapsed": true,
    "pycharm": {
     "name": "#%%\n"
    }
   },
   "outputs": [],
   "source": [
    "# Find the data for extracting and scrapping - website and kaggle + commit to Github - Rita - done :)"
   ]
  },
  {
   "cell_type": "code",
   "execution_count": 307,
   "outputs": [],
   "source": [
    "# Clean the data = remove empty, n/a etc + commit to Github - Rita + Irawo"
   ],
   "metadata": {
    "collapsed": false,
    "pycharm": {
     "name": "#%%\n"
    }
   }
  },
  {
   "cell_type": "code",
   "execution_count": 308,
   "outputs": [],
   "source": [
    "# Filter columns (only 2021 and 2022) + commit to Github - Rita + Irawo"
   ],
   "metadata": {
    "collapsed": false,
    "pycharm": {
     "name": "#%%\n"
    }
   }
  },
  {
   "cell_type": "code",
   "execution_count": 309,
   "outputs": [],
   "source": [
    "# Transform it to the correct format + commit to Github - Kouame"
   ],
   "metadata": {
    "collapsed": false,
    "pycharm": {
     "name": "#%%\n"
    }
   }
  },
  {
   "cell_type": "code",
   "execution_count": 310,
   "outputs": [],
   "source": [
    "# Upload it to MongoDB and use pymongo + commit to Github - Kouame"
   ],
   "metadata": {
    "collapsed": false,
    "pycharm": {
     "name": "#%%\n"
    }
   }
  },
  {
   "cell_type": "code",
   "execution_count": 311,
   "outputs": [],
   "source": [
    "# Write the report - all"
   ],
   "metadata": {
    "collapsed": false,
    "pycharm": {
     "name": "#%%\n"
    }
   }
  },
  {
   "cell_type": "code",
   "execution_count": 312,
   "outputs": [],
   "source": [
    "# GitHub Repository - Rita"
   ],
   "metadata": {
    "collapsed": false,
    "pycharm": {
     "name": "#%%\n"
    }
   }
  },
  {
   "cell_type": "code",
   "execution_count": 313,
   "outputs": [],
   "source": [
    "# PowerPoint Presentation - Irawo"
   ],
   "metadata": {
    "collapsed": false,
    "pycharm": {
     "name": "#%%\n"
    }
   }
  }
 ],
 "metadata": {
  "kernelspec": {
   "display_name": "Python 3",
   "language": "python",
   "name": "python3"
  },
  "language_info": {
   "codemirror_mode": {
    "name": "ipython",
    "version": 2
   },
   "file_extension": ".py",
   "mimetype": "text/x-python",
   "name": "python",
   "nbconvert_exporter": "python",
   "pygments_lexer": "ipython2",
   "version": "2.7.6"
  }
 },
 "nbformat": 4,
 "nbformat_minor": 0
}