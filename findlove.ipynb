{
 "cells": [
  {
   "cell_type": "code",
   "execution_count": 164,
   "outputs": [],
   "source": [
    "# Dependencies\n",
    "import os\n",
    "from bs4 import BeautifulSoup as bs"
   ],
   "metadata": {
    "collapsed": false,
    "pycharm": {
     "name": "#%%\n"
    }
   }
  },
  {
   "cell_type": "code",
   "execution_count": 165,
   "outputs": [],
   "source": [
    "# Read HTML from file\n",
    "filepath = os.path.join(\"template.html\")\n",
    "with open(filepath) as file:\n",
    "    html = file.read()"
   ],
   "metadata": {
    "collapsed": false,
    "pycharm": {
     "name": "#%%\n"
    }
   }
  },
  {
   "cell_type": "code",
   "execution_count": 166,
   "outputs": [],
   "source": [
    "# Create a Beautiful Soup Object\n",
    "soup = bs(html, 'html.parser')"
   ],
   "metadata": {
    "collapsed": false,
    "pycharm": {
     "name": "#%%\n"
    }
   }
  },
  {
   "cell_type": "code",
   "execution_count": 177,
   "outputs": [
    {
     "data": {
      "text/plain": "[<h2>1. Badoo — 480M Users</h2>,\n <h2>2. Tinder — 300M Users</h2>,\n <h2>3. Plenty of Fish — 150M Users</h2>,\n <h2>4. Bumble — 100 M Users</h2>,\n <h2>5. Adult Friend Finder — 99M Users</h2>,\n <h2>6. MenNation — 99M Users</h2>,\n <h2>7. Match — 96M Users</h2>,\n <h2>8. Ashley Madison — 65M Users</h2>,\n <h2>9. Happn — 50M Users</h2>,\n <h2>10. Zoosk — 40M Users</h2>,\n <h2>11. eharmony — 37M Users</h2>,\n <h2>12. OkCupid — 30M Users</h2>,\n <h2>13. Grindr — 27M Users</h2>,\n <h2>14. Coffee Meets Bagel — 21M Users</h2>,\n <h2>15. ChristianMingle — 16M Users</h2>,\n <h2>16. BeNaughty — 13.3M Users</h2>,\n <h2>17. EliteSingles — 13M Users</h2>,\n <h2>18. OurTime — 8.9M Users</h2>,\n <h2>19. BlackPeopleMeet — 5.7M Users</h2>,\n <h2>20. Hinge — 5.5M Users</h2>,\n <h2>21. HER — 4M Users</h2>,\n <h2>22. SilverSingles — 800,000 Users</h2>,\n <h2>23. LesbianPersonals — 500,000 Users</h2>,\n <h2>24. FriendFinder-X — 40,000 Users</h2>,\n <h2>Which Dating Site is Best for Serious Relationships?</h2>,\n <h2>What are the Top 5 Dating Sites?</h2>,\n <h2>Which Dating App Has the Most Success?</h2>,\n <h2>Are Paid Dating Sites Better?</h2>,\n <h2>The Most Popular Dating Sites &amp; Apps Keep Growing &amp; Matching</h2>,\n <h2>Discuss This!</h2>,\n <h2>\"THE AUTHORITY ON ALL THINGS DATING™\"</h2>,\n <h2>THE LATEST ADVICE</h2>,\n <h2>Industry News</h2>,\n <h2>DATING SITE REVIEWS</h2>]"
     },
     "execution_count": 177,
     "metadata": {},
     "output_type": "execute_result"
    }
   ],
   "source": [
    "# Extract dating apps names and amount of their users from headlines\n",
    "soup.body.find_all('h2')"
   ],
   "metadata": {
    "collapsed": false,
    "pycharm": {
     "name": "#%%\n"
    }
   }
  },
  {
   "cell_type": "code",
   "execution_count": 167,
   "outputs": [],
   "source": [],
   "metadata": {
    "collapsed": false,
    "pycharm": {
     "name": "#%%\n"
    }
   }
  },
  {
   "cell_type": "code",
   "execution_count": 167,
   "outputs": [],
   "source": [],
   "metadata": {
    "collapsed": false,
    "pycharm": {
     "name": "#%%\n"
    }
   }
  },
  {
   "cell_type": "code",
   "execution_count": 167,
   "outputs": [],
   "source": [],
   "metadata": {
    "collapsed": false,
    "pycharm": {
     "name": "#%%\n"
    }
   }
  },
  {
   "cell_type": "code",
   "execution_count": 168,
   "metadata": {
    "collapsed": true,
    "pycharm": {
     "name": "#%%\n"
    }
   },
   "outputs": [],
   "source": [
    "# Find the data for extracting and scrapping - website and kaggle + commit to Github - Rita - done :)"
   ]
  },
  {
   "cell_type": "code",
   "execution_count": 169,
   "outputs": [],
   "source": [
    "# Clean the data = remove empty, n/a etc + commit to Github - Rita + Irawo"
   ],
   "metadata": {
    "collapsed": false,
    "pycharm": {
     "name": "#%%\n"
    }
   }
  },
  {
   "cell_type": "code",
   "execution_count": 170,
   "outputs": [],
   "source": [
    "# Filter columns (only 2021 and 2022) + commit to Github - Rita + Irawo"
   ],
   "metadata": {
    "collapsed": false,
    "pycharm": {
     "name": "#%%\n"
    }
   }
  },
  {
   "cell_type": "code",
   "execution_count": 171,
   "outputs": [],
   "source": [
    "# Transform it to the correct format + commit to Github - Kouame"
   ],
   "metadata": {
    "collapsed": false,
    "pycharm": {
     "name": "#%%\n"
    }
   }
  },
  {
   "cell_type": "code",
   "execution_count": 172,
   "outputs": [],
   "source": [
    "# Upload it to MongoDB and use pymongo + commit to Github - Kouame"
   ],
   "metadata": {
    "collapsed": false,
    "pycharm": {
     "name": "#%%\n"
    }
   }
  },
  {
   "cell_type": "code",
   "execution_count": 173,
   "outputs": [],
   "source": [
    "# Write the report - all"
   ],
   "metadata": {
    "collapsed": false,
    "pycharm": {
     "name": "#%%\n"
    }
   }
  },
  {
   "cell_type": "code",
   "execution_count": 174,
   "outputs": [],
   "source": [
    "# GitHub Repository - Rita"
   ],
   "metadata": {
    "collapsed": false,
    "pycharm": {
     "name": "#%%\n"
    }
   }
  },
  {
   "cell_type": "code",
   "execution_count": 175,
   "outputs": [],
   "source": [
    "# PowerPoint Presentation - Irawo"
   ],
   "metadata": {
    "collapsed": false,
    "pycharm": {
     "name": "#%%\n"
    }
   }
  }
 ],
 "metadata": {
  "kernelspec": {
   "display_name": "Python 3",
   "language": "python",
   "name": "python3"
  },
  "language_info": {
   "codemirror_mode": {
    "name": "ipython",
    "version": 2
   },
   "file_extension": ".py",
   "mimetype": "text/x-python",
   "name": "python",
   "nbconvert_exporter": "python",
   "pygments_lexer": "ipython2",
   "version": "2.7.6"
  }
 },
 "nbformat": 4,
 "nbformat_minor": 0
}