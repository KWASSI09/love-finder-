{
 "cells": [
  {
   "cell_type": "code",
   "execution_count": 243,
   "outputs": [],
   "source": [
    "# Dependencies\n",
    "import os\n",
    "from bs4 import BeautifulSoup as bs"
   ],
   "metadata": {
    "collapsed": false,
    "pycharm": {
     "name": "#%%\n"
    }
   }
  },
  {
   "cell_type": "code",
   "execution_count": 244,
   "outputs": [],
   "source": [
    "# Read HTML from file\n",
    "filepath = os.path.join(\"resources/template.html\")\n",
    "with open(filepath) as file:\n",
    "    html = file.read()"
   ],
   "metadata": {
    "collapsed": false,
    "pycharm": {
     "name": "#%%\n"
    }
   }
  },
  {
   "cell_type": "code",
   "execution_count": 245,
   "outputs": [],
   "source": [
    "# Create a Beautiful Soup Object\n",
    "soup = bs(html, 'html.parser')"
   ],
   "metadata": {
    "collapsed": false,
    "pycharm": {
     "name": "#%%\n"
    }
   }
  },
  {
   "cell_type": "code",
   "execution_count": 255,
   "outputs": [
    {
     "name": "stdout",
     "output_type": "stream",
     "text": [
      "1. Badoo — 480M Users\n",
      "2. Tinder — 300M Users\n",
      "3. Plenty of Fish — 150M Users\n",
      "4. Bumble — 100 M Users\n",
      "5. Adult Friend Finder — 99M Users\n",
      "6. MenNation — 99M Users\n",
      "7. Match — 96M Users\n",
      "8. Ashley Madison — 65M Users\n",
      "9. Happn — 50M Users\n",
      "10. Zoosk — 40M Users\n",
      "11. eharmony — 37M Users\n",
      "12. OkCupid — 30M Users\n",
      "13. Grindr — 27M Users\n",
      "14. Coffee Meets Bagel — 21M Users\n",
      "15. ChristianMingle — 16M Users\n",
      "16. BeNaughty — 13.3M Users\n",
      "17. EliteSingles — 13M Users\n",
      "18. OurTime — 8.9M Users\n",
      "19. BlackPeopleMeet — 5.7M Users\n",
      "20. Hinge — 5.5M Users\n",
      "21. HER — 4M Users\n",
      "22. SilverSingles — 800,000 Users\n",
      "23. LesbianPersonals — 500,000 Users\n",
      "24. FriendFinder-X — 40,000 Users\n"
     ]
    }
   ],
   "source": [
    "# Extract dating apps names and amount of their users from headlines\n",
    "apps_and_users = soup.body.find_all('h2')[:24]\n",
    "for t in apps_and_users:\n",
    "    print(t.text)"
   ],
   "metadata": {
    "collapsed": false,
    "pycharm": {
     "name": "#%%\n"
    }
   }
  },
  {
   "cell_type": "code",
   "execution_count": 246,
   "outputs": [],
   "source": [],
   "metadata": {
    "collapsed": false,
    "pycharm": {
     "name": "#%%\n"
    }
   }
  },
  {
   "cell_type": "code",
   "execution_count": 246,
   "outputs": [],
   "source": [],
   "metadata": {
    "collapsed": false,
    "pycharm": {
     "name": "#%%\n"
    }
   }
  },
  {
   "cell_type": "code",
   "execution_count": 246,
   "outputs": [],
   "source": [],
   "metadata": {
    "collapsed": false,
    "pycharm": {
     "name": "#%%\n"
    }
   }
  },
  {
   "cell_type": "code",
   "execution_count": 247,
   "metadata": {
    "collapsed": true,
    "pycharm": {
     "name": "#%%\n"
    }
   },
   "outputs": [],
   "source": [
    "# Find the data for extracting and scrapping - website and kaggle + commit to Github - Rita - done :)"
   ]
  },
  {
   "cell_type": "code",
   "execution_count": 248,
   "outputs": [],
   "source": [
    "# Clean the data = remove empty, n/a etc + commit to Github - Rita + Irawo"
   ],
   "metadata": {
    "collapsed": false,
    "pycharm": {
     "name": "#%%\n"
    }
   }
  },
  {
   "cell_type": "code",
   "execution_count": 249,
   "outputs": [],
   "source": [
    "# Filter columns (only 2021 and 2022) + commit to Github - Rita + Irawo"
   ],
   "metadata": {
    "collapsed": false,
    "pycharm": {
     "name": "#%%\n"
    }
   }
  },
  {
   "cell_type": "code",
   "execution_count": 250,
   "outputs": [],
   "source": [
    "# Transform it to the correct format + commit to Github - Kouame"
   ],
   "metadata": {
    "collapsed": false,
    "pycharm": {
     "name": "#%%\n"
    }
   }
  },
  {
   "cell_type": "code",
   "execution_count": 251,
   "outputs": [],
   "source": [
    "# Upload it to MongoDB and use pymongo + commit to Github - Kouame"
   ],
   "metadata": {
    "collapsed": false,
    "pycharm": {
     "name": "#%%\n"
    }
   }
  },
  {
   "cell_type": "code",
   "execution_count": 252,
   "outputs": [],
   "source": [
    "# Write the report - all"
   ],
   "metadata": {
    "collapsed": false,
    "pycharm": {
     "name": "#%%\n"
    }
   }
  },
  {
   "cell_type": "code",
   "execution_count": 253,
   "outputs": [],
   "source": [
    "# GitHub Repository - Rita"
   ],
   "metadata": {
    "collapsed": false,
    "pycharm": {
     "name": "#%%\n"
    }
   }
  },
  {
   "cell_type": "code",
   "execution_count": 254,
   "outputs": [],
   "source": [
    "# PowerPoint Presentation - Irawo"
   ],
   "metadata": {
    "collapsed": false,
    "pycharm": {
     "name": "#%%\n"
    }
   }
  }
 ],
 "metadata": {
  "kernelspec": {
   "display_name": "Python 3",
   "language": "python",
   "name": "python3"
  },
  "language_info": {
   "codemirror_mode": {
    "name": "ipython",
    "version": 2
   },
   "file_extension": ".py",
   "mimetype": "text/x-python",
   "name": "python",
   "nbconvert_exporter": "python",
   "pygments_lexer": "ipython2",
   "version": "2.7.6"
  }
 },
 "nbformat": 4,
 "nbformat_minor": 0
}