{
 "cells": [
  {
   "cell_type": "code",
   "execution_count": 57,
   "id": "010b5134-7deb-4bf3-9cb1-917094b8b977",
   "metadata": {
    "pycharm": {
     "name": "#%%\n"
    }
   },
   "outputs": [],
   "source": [
    "import pandas as pd\n",
    "# converting csv to dataframe\n",
    "df=pd.read_csv('/Users/irawobebeyi/desktop/UoB/project_2/reviews.csv')\n"
   ]
  },
  {
   "cell_type": "code",
   "execution_count": 104,
   "id": "cd40e300-4394-45d4-ad73-887ecbf38083",
   "metadata": {
    "pycharm": {
     "name": "#%%\n"
    }
   },
   "outputs": [],
   "source": [
    "df['Date&Time']= pd.to_datetime(df['Date&Time'], format='%Y-%m-%d')\n",
    "\n"
   ]
  },
  {
   "cell_type": "code",
   "execution_count": 89,
   "id": "0d8e8637-3811-470c-ba77-2ca0244ef787",
   "metadata": {
    "pycharm": {
     "name": "#%%\n"
    }
   },
   "outputs": [
    {
     "name": "stdout",
     "output_type": "stream",
     "text": [
      "<class 'pandas.core.frame.DataFrame'>\n",
      "RangeIndex: 681994 entries, 0 to 681993\n",
      "Data columns (total 7 columns):\n",
      " #   Column      Non-Null Count   Dtype         \n",
      "---  ------      --------------   -----         \n",
      " 0   Unnamed: 0  681994 non-null  int64         \n",
      " 1   Name        681989 non-null  object        \n",
      " 2   Review      680642 non-null  object        \n",
      " 3   Rating      681994 non-null  int64         \n",
      " 4   #ThumbsUp   681994 non-null  int64         \n",
      " 5   Date&Time   681994 non-null  datetime64[ns]\n",
      " 6   App         681994 non-null  object        \n",
      "dtypes: datetime64[ns](1), int64(3), object(3)\n",
      "memory usage: 36.4+ MB\n"
     ]
    }
   ],
   "source": [
    "df.info()"
   ]
  },
  {
   "cell_type": "code",
   "execution_count": 90,
   "id": "fb97a310-044f-4806-8dc6-8813622728ae",
   "metadata": {
    "pycharm": {
     "name": "#%%\n"
    }
   },
   "outputs": [],
   "source": [
    "df_clean = df.dropna(how='all').drop(['Unnamed: 0', '#ThumbsUp', 'Name', 'Review'], axis=1).copy()"
   ]
  },
  {
   "cell_type": "code",
   "execution_count": 91,
   "id": "e1222507-97e0-42b1-83ff-9a9f82067aec",
   "metadata": {
    "pycharm": {
     "name": "#%%\n"
    }
   },
   "outputs": [
    {
     "data": {
      "text/html": [
       "<div>\n",
       "<style scoped>\n",
       "    .dataframe tbody tr th:only-of-type {\n",
       "        vertical-align: middle;\n",
       "    }\n",
       "\n",
       "    .dataframe tbody tr th {\n",
       "        vertical-align: top;\n",
       "    }\n",
       "\n",
       "    .dataframe thead th {\n",
       "        text-align: right;\n",
       "    }\n",
       "</style>\n",
       "<table border=\"1\" class=\"dataframe\">\n",
       "  <thead>\n",
       "    <tr style=\"text-align: right;\">\n",
       "      <th></th>\n",
       "      <th>Rating</th>\n",
       "      <th>Date&amp;Time</th>\n",
       "      <th>App</th>\n",
       "    </tr>\n",
       "  </thead>\n",
       "  <tbody>\n",
       "    <tr>\n",
       "      <th>0</th>\n",
       "      <td>5</td>\n",
       "      <td>2022-02-18 01:19:00</td>\n",
       "      <td>Tinder</td>\n",
       "    </tr>\n",
       "    <tr>\n",
       "      <th>1</th>\n",
       "      <td>3</td>\n",
       "      <td>2022-02-18 01:16:00</td>\n",
       "      <td>Tinder</td>\n",
       "    </tr>\n",
       "    <tr>\n",
       "      <th>2</th>\n",
       "      <td>1</td>\n",
       "      <td>2022-02-18 01:11:00</td>\n",
       "      <td>Tinder</td>\n",
       "    </tr>\n",
       "    <tr>\n",
       "      <th>3</th>\n",
       "      <td>2</td>\n",
       "      <td>2022-02-18 01:11:00</td>\n",
       "      <td>Tinder</td>\n",
       "    </tr>\n",
       "    <tr>\n",
       "      <th>4</th>\n",
       "      <td>5</td>\n",
       "      <td>2022-02-18 01:06:00</td>\n",
       "      <td>Tinder</td>\n",
       "    </tr>\n",
       "  </tbody>\n",
       "</table>\n",
       "</div>"
      ],
      "text/plain": [
       "   Rating           Date&Time     App\n",
       "0       5 2022-02-18 01:19:00  Tinder\n",
       "1       3 2022-02-18 01:16:00  Tinder\n",
       "2       1 2022-02-18 01:11:00  Tinder\n",
       "3       2 2022-02-18 01:11:00  Tinder\n",
       "4       5 2022-02-18 01:06:00  Tinder"
      ]
     },
     "execution_count": 91,
     "metadata": {},
     "output_type": "execute_result"
    }
   ],
   "source": [
    "df_clean.head() "
   ]
  },
  {
   "cell_type": "code",
   "execution_count": 105,
   "id": "cedda4ae-d671-4dfb-b456-eda337a56af6",
   "metadata": {
    "pycharm": {
     "name": "#%%\n"
    }
   },
   "outputs": [
    {
     "data": {
      "text/html": [
       "<div>\n",
       "<style scoped>\n",
       "    .dataframe tbody tr th:only-of-type {\n",
       "        vertical-align: middle;\n",
       "    }\n",
       "\n",
       "    .dataframe tbody tr th {\n",
       "        vertical-align: top;\n",
       "    }\n",
       "\n",
       "    .dataframe thead th {\n",
       "        text-align: right;\n",
       "    }\n",
       "</style>\n",
       "<table border=\"1\" class=\"dataframe\">\n",
       "  <thead>\n",
       "    <tr style=\"text-align: right;\">\n",
       "      <th></th>\n",
       "      <th>App</th>\n",
       "      <th>Rating</th>\n",
       "      <th>Date&amp;Time</th>\n",
       "    </tr>\n",
       "  </thead>\n",
       "  <tbody>\n",
       "    <tr>\n",
       "      <th>0</th>\n",
       "      <td>Tinder</td>\n",
       "      <td>5</td>\n",
       "      <td>2022-02-18 01:19:00</td>\n",
       "    </tr>\n",
       "    <tr>\n",
       "      <th>1</th>\n",
       "      <td>Tinder</td>\n",
       "      <td>3</td>\n",
       "      <td>2022-02-18 01:16:00</td>\n",
       "    </tr>\n",
       "    <tr>\n",
       "      <th>2</th>\n",
       "      <td>Tinder</td>\n",
       "      <td>1</td>\n",
       "      <td>2022-02-18 01:11:00</td>\n",
       "    </tr>\n",
       "    <tr>\n",
       "      <th>3</th>\n",
       "      <td>Tinder</td>\n",
       "      <td>2</td>\n",
       "      <td>2022-02-18 01:11:00</td>\n",
       "    </tr>\n",
       "    <tr>\n",
       "      <th>4</th>\n",
       "      <td>Tinder</td>\n",
       "      <td>5</td>\n",
       "      <td>2022-02-18 01:06:00</td>\n",
       "    </tr>\n",
       "    <tr>\n",
       "      <th>...</th>\n",
       "      <td>...</td>\n",
       "      <td>...</td>\n",
       "      <td>...</td>\n",
       "    </tr>\n",
       "    <tr>\n",
       "      <th>681989</th>\n",
       "      <td>Hinge</td>\n",
       "      <td>2</td>\n",
       "      <td>2017-12-07 01:44:00</td>\n",
       "    </tr>\n",
       "    <tr>\n",
       "      <th>681990</th>\n",
       "      <td>Hinge</td>\n",
       "      <td>1</td>\n",
       "      <td>2017-12-07 01:36:00</td>\n",
       "    </tr>\n",
       "    <tr>\n",
       "      <th>681991</th>\n",
       "      <td>Hinge</td>\n",
       "      <td>5</td>\n",
       "      <td>2017-12-07 01:32:00</td>\n",
       "    </tr>\n",
       "    <tr>\n",
       "      <th>681992</th>\n",
       "      <td>Hinge</td>\n",
       "      <td>2</td>\n",
       "      <td>2017-12-07 01:28:00</td>\n",
       "    </tr>\n",
       "    <tr>\n",
       "      <th>681993</th>\n",
       "      <td>Hinge</td>\n",
       "      <td>2</td>\n",
       "      <td>2017-12-07 01:24:00</td>\n",
       "    </tr>\n",
       "  </tbody>\n",
       "</table>\n",
       "<p>681994 rows × 3 columns</p>\n",
       "</div>"
      ],
      "text/plain": [
       "           App  Rating           Date&Time\n",
       "0       Tinder       5 2022-02-18 01:19:00\n",
       "1       Tinder       3 2022-02-18 01:16:00\n",
       "2       Tinder       1 2022-02-18 01:11:00\n",
       "3       Tinder       2 2022-02-18 01:11:00\n",
       "4       Tinder       5 2022-02-18 01:06:00\n",
       "...        ...     ...                 ...\n",
       "681989   Hinge       2 2017-12-07 01:44:00\n",
       "681990   Hinge       1 2017-12-07 01:36:00\n",
       "681991   Hinge       5 2017-12-07 01:32:00\n",
       "681992   Hinge       2 2017-12-07 01:28:00\n",
       "681993   Hinge       2 2017-12-07 01:24:00\n",
       "\n",
       "[681994 rows x 3 columns]"
      ]
     },
     "execution_count": 105,
     "metadata": {},
     "output_type": "execute_result"
    }
   ],
   "source": [
    "df_clean[['App', 'Rating', 'Date&Time']]"
   ]
  },
  {
   "cell_type": "code",
   "execution_count": 107,
   "id": "1b5c2794-f10b-41ed-a621-80acad67423c",
   "metadata": {
    "pycharm": {
     "name": "#%%\n"
    }
   },
   "outputs": [
    {
     "data": {
      "text/html": [
       "<div>\n",
       "<style scoped>\n",
       "    .dataframe tbody tr th:only-of-type {\n",
       "        vertical-align: middle;\n",
       "    }\n",
       "\n",
       "    .dataframe tbody tr th {\n",
       "        vertical-align: top;\n",
       "    }\n",
       "\n",
       "    .dataframe thead th {\n",
       "        text-align: right;\n",
       "    }\n",
       "</style>\n",
       "<table border=\"1\" class=\"dataframe\">\n",
       "  <thead>\n",
       "    <tr style=\"text-align: right;\">\n",
       "      <th></th>\n",
       "      <th>App</th>\n",
       "      <th>Rating</th>\n",
       "      <th>Date&amp;Time</th>\n",
       "    </tr>\n",
       "  </thead>\n",
       "  <tbody>\n",
       "    <tr>\n",
       "      <th>0</th>\n",
       "      <td>Tinder</td>\n",
       "      <td>5</td>\n",
       "      <td>2022-02-18 01:19:00</td>\n",
       "    </tr>\n",
       "    <tr>\n",
       "      <th>1</th>\n",
       "      <td>Tinder</td>\n",
       "      <td>3</td>\n",
       "      <td>2022-02-18 01:16:00</td>\n",
       "    </tr>\n",
       "    <tr>\n",
       "      <th>2</th>\n",
       "      <td>Tinder</td>\n",
       "      <td>1</td>\n",
       "      <td>2022-02-18 01:11:00</td>\n",
       "    </tr>\n",
       "    <tr>\n",
       "      <th>3</th>\n",
       "      <td>Tinder</td>\n",
       "      <td>2</td>\n",
       "      <td>2022-02-18 01:11:00</td>\n",
       "    </tr>\n",
       "    <tr>\n",
       "      <th>4</th>\n",
       "      <td>Tinder</td>\n",
       "      <td>5</td>\n",
       "      <td>2022-02-18 01:06:00</td>\n",
       "    </tr>\n",
       "    <tr>\n",
       "      <th>...</th>\n",
       "      <td>...</td>\n",
       "      <td>...</td>\n",
       "      <td>...</td>\n",
       "    </tr>\n",
       "    <tr>\n",
       "      <th>681989</th>\n",
       "      <td>Hinge</td>\n",
       "      <td>2</td>\n",
       "      <td>2017-12-07 01:44:00</td>\n",
       "    </tr>\n",
       "    <tr>\n",
       "      <th>681990</th>\n",
       "      <td>Hinge</td>\n",
       "      <td>1</td>\n",
       "      <td>2017-12-07 01:36:00</td>\n",
       "    </tr>\n",
       "    <tr>\n",
       "      <th>681991</th>\n",
       "      <td>Hinge</td>\n",
       "      <td>5</td>\n",
       "      <td>2017-12-07 01:32:00</td>\n",
       "    </tr>\n",
       "    <tr>\n",
       "      <th>681992</th>\n",
       "      <td>Hinge</td>\n",
       "      <td>2</td>\n",
       "      <td>2017-12-07 01:28:00</td>\n",
       "    </tr>\n",
       "    <tr>\n",
       "      <th>681993</th>\n",
       "      <td>Hinge</td>\n",
       "      <td>2</td>\n",
       "      <td>2017-12-07 01:24:00</td>\n",
       "    </tr>\n",
       "  </tbody>\n",
       "</table>\n",
       "<p>681994 rows × 3 columns</p>\n",
       "</div>"
      ],
      "text/plain": [
       "           App  Rating           Date&Time\n",
       "0       Tinder       5 2022-02-18 01:19:00\n",
       "1       Tinder       3 2022-02-18 01:16:00\n",
       "2       Tinder       1 2022-02-18 01:11:00\n",
       "3       Tinder       2 2022-02-18 01:11:00\n",
       "4       Tinder       5 2022-02-18 01:06:00\n",
       "...        ...     ...                 ...\n",
       "681989   Hinge       2 2017-12-07 01:44:00\n",
       "681990   Hinge       1 2017-12-07 01:36:00\n",
       "681991   Hinge       5 2017-12-07 01:32:00\n",
       "681992   Hinge       2 2017-12-07 01:28:00\n",
       "681993   Hinge       2 2017-12-07 01:24:00\n",
       "\n",
       "[681994 rows x 3 columns]"
      ]
     },
     "execution_count": 107,
     "metadata": {},
     "output_type": "execute_result"
    }
   ],
   "source": [
    "df_app_rating = pd.DataFrame(df_clean[['App', 'Rating', 'Date&Time']])\n",
    "df_app_rating"
   ]
  },
  {
   "cell_type": "code",
   "execution_count": 109,
   "id": "dd950606-d7e7-43ed-9c3e-9f09a378bc7f",
   "metadata": {
    "pycharm": {
     "name": "#%%\n"
    }
   },
   "outputs": [
    {
     "data": {
      "text/html": [
       "<div>\n",
       "<style scoped>\n",
       "    .dataframe tbody tr th:only-of-type {\n",
       "        vertical-align: middle;\n",
       "    }\n",
       "\n",
       "    .dataframe tbody tr th {\n",
       "        vertical-align: top;\n",
       "    }\n",
       "\n",
       "    .dataframe thead th {\n",
       "        text-align: right;\n",
       "    }\n",
       "</style>\n",
       "<table border=\"1\" class=\"dataframe\">\n",
       "  <thead>\n",
       "    <tr style=\"text-align: right;\">\n",
       "      <th></th>\n",
       "      <th>App</th>\n",
       "      <th>Rating</th>\n",
       "      <th>Date&amp;Time</th>\n",
       "      <th>Year</th>\n",
       "    </tr>\n",
       "  </thead>\n",
       "  <tbody>\n",
       "    <tr>\n",
       "      <th>0</th>\n",
       "      <td>Tinder</td>\n",
       "      <td>5</td>\n",
       "      <td>2022-02-18 01:19:00</td>\n",
       "      <td>2022</td>\n",
       "    </tr>\n",
       "    <tr>\n",
       "      <th>1</th>\n",
       "      <td>Tinder</td>\n",
       "      <td>3</td>\n",
       "      <td>2022-02-18 01:16:00</td>\n",
       "      <td>2022</td>\n",
       "    </tr>\n",
       "    <tr>\n",
       "      <th>2</th>\n",
       "      <td>Tinder</td>\n",
       "      <td>1</td>\n",
       "      <td>2022-02-18 01:11:00</td>\n",
       "      <td>2022</td>\n",
       "    </tr>\n",
       "    <tr>\n",
       "      <th>3</th>\n",
       "      <td>Tinder</td>\n",
       "      <td>2</td>\n",
       "      <td>2022-02-18 01:11:00</td>\n",
       "      <td>2022</td>\n",
       "    </tr>\n",
       "    <tr>\n",
       "      <th>4</th>\n",
       "      <td>Tinder</td>\n",
       "      <td>5</td>\n",
       "      <td>2022-02-18 01:06:00</td>\n",
       "      <td>2022</td>\n",
       "    </tr>\n",
       "    <tr>\n",
       "      <th>...</th>\n",
       "      <td>...</td>\n",
       "      <td>...</td>\n",
       "      <td>...</td>\n",
       "      <td>...</td>\n",
       "    </tr>\n",
       "    <tr>\n",
       "      <th>681989</th>\n",
       "      <td>Hinge</td>\n",
       "      <td>2</td>\n",
       "      <td>2017-12-07 01:44:00</td>\n",
       "      <td>2017</td>\n",
       "    </tr>\n",
       "    <tr>\n",
       "      <th>681990</th>\n",
       "      <td>Hinge</td>\n",
       "      <td>1</td>\n",
       "      <td>2017-12-07 01:36:00</td>\n",
       "      <td>2017</td>\n",
       "    </tr>\n",
       "    <tr>\n",
       "      <th>681991</th>\n",
       "      <td>Hinge</td>\n",
       "      <td>5</td>\n",
       "      <td>2017-12-07 01:32:00</td>\n",
       "      <td>2017</td>\n",
       "    </tr>\n",
       "    <tr>\n",
       "      <th>681992</th>\n",
       "      <td>Hinge</td>\n",
       "      <td>2</td>\n",
       "      <td>2017-12-07 01:28:00</td>\n",
       "      <td>2017</td>\n",
       "    </tr>\n",
       "    <tr>\n",
       "      <th>681993</th>\n",
       "      <td>Hinge</td>\n",
       "      <td>2</td>\n",
       "      <td>2017-12-07 01:24:00</td>\n",
       "      <td>2017</td>\n",
       "    </tr>\n",
       "  </tbody>\n",
       "</table>\n",
       "<p>681994 rows × 4 columns</p>\n",
       "</div>"
      ],
      "text/plain": [
       "           App  Rating           Date&Time  Year\n",
       "0       Tinder       5 2022-02-18 01:19:00  2022\n",
       "1       Tinder       3 2022-02-18 01:16:00  2022\n",
       "2       Tinder       1 2022-02-18 01:11:00  2022\n",
       "3       Tinder       2 2022-02-18 01:11:00  2022\n",
       "4       Tinder       5 2022-02-18 01:06:00  2022\n",
       "...        ...     ...                 ...   ...\n",
       "681989   Hinge       2 2017-12-07 01:44:00  2017\n",
       "681990   Hinge       1 2017-12-07 01:36:00  2017\n",
       "681991   Hinge       5 2017-12-07 01:32:00  2017\n",
       "681992   Hinge       2 2017-12-07 01:28:00  2017\n",
       "681993   Hinge       2 2017-12-07 01:24:00  2017\n",
       "\n",
       "[681994 rows x 4 columns]"
      ]
     },
     "execution_count": 109,
     "metadata": {},
     "output_type": "execute_result"
    }
   ],
   "source": [
    "df_app_rating['Year'] = pd.DatetimeIndex(df_app_rating['Date&Time']).year\n",
    "df_app_rating"
   ]
  },
  {
   "cell_type": "code",
   "execution_count": 122,
   "id": "80c16a6c-f340-495e-953d-2c6101e7367d",
   "metadata": {
    "pycharm": {
     "name": "#%%\n"
    }
   },
   "outputs": [
    {
     "ename": "ValueError",
     "evalue": "The truth value of a Series is ambiguous. Use a.empty, a.bool(), a.item(), a.any() or a.all().",
     "output_type": "error",
     "traceback": [
      "\u001B[0;31m---------------------------------------------------------------------------\u001B[0m",
      "\u001B[0;31mValueError\u001B[0m                                Traceback (most recent call last)",
      "Input \u001B[0;32mIn [122]\u001B[0m, in \u001B[0;36m<cell line: 1>\u001B[0;34m()\u001B[0m\n\u001B[0;32m----> 1\u001B[0m df_high_rating \u001B[38;5;241m=\u001B[39m df_app_rating[\u001B[38;5;124m'\u001B[39m\u001B[38;5;124mRating\u001B[39m\u001B[38;5;124m'\u001B[39m] \u001B[38;5;241m==\u001B[39m \u001B[38;5;241m5\u001B[39m \u001B[38;5;241m|\u001B[39m df_app_rating[\u001B[38;5;124m'\u001B[39m\u001B[38;5;124mYear\u001B[39m\u001B[38;5;124m'\u001B[39m] \u001B[38;5;241m==\u001B[39m \u001B[38;5;241m2022\u001B[39m\n",
      "File \u001B[0;32m~/opt/anaconda3/lib/python3.9/site-packages/pandas/core/generic.py:1527\u001B[0m, in \u001B[0;36mNDFrame.__nonzero__\u001B[0;34m(self)\u001B[0m\n\u001B[1;32m   1525\u001B[0m \u001B[38;5;129m@final\u001B[39m\n\u001B[1;32m   1526\u001B[0m \u001B[38;5;28;01mdef\u001B[39;00m \u001B[38;5;21m__nonzero__\u001B[39m(\u001B[38;5;28mself\u001B[39m):\n\u001B[0;32m-> 1527\u001B[0m     \u001B[38;5;28;01mraise\u001B[39;00m \u001B[38;5;167;01mValueError\u001B[39;00m(\n\u001B[1;32m   1528\u001B[0m         \u001B[38;5;124mf\u001B[39m\u001B[38;5;124m\"\u001B[39m\u001B[38;5;124mThe truth value of a \u001B[39m\u001B[38;5;132;01m{\u001B[39;00m\u001B[38;5;28mtype\u001B[39m(\u001B[38;5;28mself\u001B[39m)\u001B[38;5;241m.\u001B[39m\u001B[38;5;18m__name__\u001B[39m\u001B[38;5;132;01m}\u001B[39;00m\u001B[38;5;124m is ambiguous. \u001B[39m\u001B[38;5;124m\"\u001B[39m\n\u001B[1;32m   1529\u001B[0m         \u001B[38;5;124m\"\u001B[39m\u001B[38;5;124mUse a.empty, a.bool(), a.item(), a.any() or a.all().\u001B[39m\u001B[38;5;124m\"\u001B[39m\n\u001B[1;32m   1530\u001B[0m     )\n",
      "\u001B[0;31mValueError\u001B[0m: The truth value of a Series is ambiguous. Use a.empty, a.bool(), a.item(), a.any() or a.all()."
     ]
    }
   ],
   "source": [
    "df_high_rating = df_app_rating['Rating'] == 5 | df_app_rating['Year'] == 2022"
   ]
  },
  {
   "cell_type": "code",
   "execution_count": null,
   "id": "48dab9bd-25ea-4908-a889-43bc04335491",
   "metadata": {
    "pycharm": {
     "name": "#%%\n"
    }
   },
   "outputs": [],
   "source": []
  }
 ],
 "metadata": {
  "kernelspec": {
   "display_name": "Python 3 (ipykernel)",
   "language": "python",
   "name": "python3"
  },
  "language_info": {
   "codemirror_mode": {
    "name": "ipython",
    "version": 3
   },
   "file_extension": ".py",
   "mimetype": "text/x-python",
   "name": "python",
   "nbconvert_exporter": "python",
   "pygments_lexer": "ipython3",
   "version": "3.9.12"
  }
 },
 "nbformat": 4,
 "nbformat_minor": 5
}