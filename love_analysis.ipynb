{
 "cells": [
  {
   "cell_type": "code",
   "execution_count": 15,
   "id": "010b5134-7deb-4bf3-9cb1-917094b8b977",
   "metadata": {
    "pycharm": {
     "name": "#%%\n"
    }
   },
   "outputs": [
    {
     "data": {
      "text/plain": "        Unnamed: 0              Name  \\\n0                0     linah sibanda   \n1                1    Norman Johnson   \n2                2        David Hume   \n3                3   Last 1 Standing   \n4                4  Arthur Magamedov   \n...            ...               ...   \n681989       52989     A Google user   \n681990       52990       Brian Shook   \n681991       52991     A Google user   \n681992       52992     A Google user   \n681993       52993        Dylan Fick   \n\n                                                   Review  Rating  #ThumbsUp  \\\n0                       On this app i cant find a partner       5          0   \n1       Tinder would be so much better if we could spe...       3          0   \n2       Still doesn't correctly notify matches or mess...       1          0   \n3       Got banned because I updated my bio to say \"I ...       2          0   \n4                                                Love it!       5          0   \n...                                                   ...     ...        ...   \n681989  Useless - I'm in the UK and it tells me i'm ov...       2          5   \n681990  I can't get past the initial set up.  It won't...       1         11   \n681991  This is incredible! A quality dating app for A...       5          1   \n681992            \"Over Water\" ... Can't choose location.       2          8   \n681993  My entire town counts as \"over water\" and I ca...       2         15   \n\n               Date&Time     App  \n0       18-02-2022 01:19  Tinder  \n1       18-02-2022 01:16  Tinder  \n2       18-02-2022 01:11  Tinder  \n3       18-02-2022 01:11  Tinder  \n4       18-02-2022 01:06  Tinder  \n...                  ...     ...  \n681989  12-07-2017 01:44   Hinge  \n681990  12-07-2017 01:36   Hinge  \n681991  12-07-2017 01:32   Hinge  \n681992  12-07-2017 01:28   Hinge  \n681993  12-07-2017 01:24   Hinge  \n\n[681994 rows x 7 columns]",
      "text/html": "<div>\n<style scoped>\n    .dataframe tbody tr th:only-of-type {\n        vertical-align: middle;\n    }\n\n    .dataframe tbody tr th {\n        vertical-align: top;\n    }\n\n    .dataframe thead th {\n        text-align: right;\n    }\n</style>\n<table border=\"1\" class=\"dataframe\">\n  <thead>\n    <tr style=\"text-align: right;\">\n      <th></th>\n      <th>Unnamed: 0</th>\n      <th>Name</th>\n      <th>Review</th>\n      <th>Rating</th>\n      <th>#ThumbsUp</th>\n      <th>Date&amp;Time</th>\n      <th>App</th>\n    </tr>\n  </thead>\n  <tbody>\n    <tr>\n      <th>0</th>\n      <td>0</td>\n      <td>linah sibanda</td>\n      <td>On this app i cant find a partner</td>\n      <td>5</td>\n      <td>0</td>\n      <td>18-02-2022 01:19</td>\n      <td>Tinder</td>\n    </tr>\n    <tr>\n      <th>1</th>\n      <td>1</td>\n      <td>Norman Johnson</td>\n      <td>Tinder would be so much better if we could spe...</td>\n      <td>3</td>\n      <td>0</td>\n      <td>18-02-2022 01:16</td>\n      <td>Tinder</td>\n    </tr>\n    <tr>\n      <th>2</th>\n      <td>2</td>\n      <td>David Hume</td>\n      <td>Still doesn't correctly notify matches or mess...</td>\n      <td>1</td>\n      <td>0</td>\n      <td>18-02-2022 01:11</td>\n      <td>Tinder</td>\n    </tr>\n    <tr>\n      <th>3</th>\n      <td>3</td>\n      <td>Last 1 Standing</td>\n      <td>Got banned because I updated my bio to say \"I ...</td>\n      <td>2</td>\n      <td>0</td>\n      <td>18-02-2022 01:11</td>\n      <td>Tinder</td>\n    </tr>\n    <tr>\n      <th>4</th>\n      <td>4</td>\n      <td>Arthur Magamedov</td>\n      <td>Love it!</td>\n      <td>5</td>\n      <td>0</td>\n      <td>18-02-2022 01:06</td>\n      <td>Tinder</td>\n    </tr>\n    <tr>\n      <th>...</th>\n      <td>...</td>\n      <td>...</td>\n      <td>...</td>\n      <td>...</td>\n      <td>...</td>\n      <td>...</td>\n      <td>...</td>\n    </tr>\n    <tr>\n      <th>681989</th>\n      <td>52989</td>\n      <td>A Google user</td>\n      <td>Useless - I'm in the UK and it tells me i'm ov...</td>\n      <td>2</td>\n      <td>5</td>\n      <td>12-07-2017 01:44</td>\n      <td>Hinge</td>\n    </tr>\n    <tr>\n      <th>681990</th>\n      <td>52990</td>\n      <td>Brian Shook</td>\n      <td>I can't get past the initial set up.  It won't...</td>\n      <td>1</td>\n      <td>11</td>\n      <td>12-07-2017 01:36</td>\n      <td>Hinge</td>\n    </tr>\n    <tr>\n      <th>681991</th>\n      <td>52991</td>\n      <td>A Google user</td>\n      <td>This is incredible! A quality dating app for A...</td>\n      <td>5</td>\n      <td>1</td>\n      <td>12-07-2017 01:32</td>\n      <td>Hinge</td>\n    </tr>\n    <tr>\n      <th>681992</th>\n      <td>52992</td>\n      <td>A Google user</td>\n      <td>\"Over Water\" ... Can't choose location.</td>\n      <td>2</td>\n      <td>8</td>\n      <td>12-07-2017 01:28</td>\n      <td>Hinge</td>\n    </tr>\n    <tr>\n      <th>681993</th>\n      <td>52993</td>\n      <td>Dylan Fick</td>\n      <td>My entire town counts as \"over water\" and I ca...</td>\n      <td>2</td>\n      <td>15</td>\n      <td>12-07-2017 01:24</td>\n      <td>Hinge</td>\n    </tr>\n  </tbody>\n</table>\n<p>681994 rows × 7 columns</p>\n</div>"
     },
     "execution_count": 15,
     "metadata": {},
     "output_type": "execute_result"
    }
   ],
   "source": [
    "import pandas as pd\n",
    "# converting csv to dataframe\n",
    "df = pd.read_csv('resources/reviews.csv')\n",
    "df\n"
   ]
  },
  {
   "cell_type": "code",
   "execution_count": 16,
   "id": "cd40e300-4394-45d4-ad73-887ecbf38083",
   "metadata": {
    "pycharm": {
     "name": "#%%\n"
    }
   },
   "outputs": [
    {
     "ename": "ValueError",
     "evalue": "time data 18-02-2022 01:19 doesn't match format specified",
     "output_type": "error",
     "traceback": [
      "\u001B[0;31m---------------------------------------------------------------------------\u001B[0m",
      "\u001B[0;31mTypeError\u001B[0m                                 Traceback (most recent call last)",
      "File \u001B[0;32m~/opt/anaconda3/lib/python3.9/site-packages/pandas/core/arrays/datetimes.py:2211\u001B[0m, in \u001B[0;36mobjects_to_datetime64ns\u001B[0;34m(data, dayfirst, yearfirst, utc, errors, require_iso8601, allow_object, allow_mixed)\u001B[0m\n\u001B[1;32m   2210\u001B[0m \u001B[38;5;28;01mtry\u001B[39;00m:\n\u001B[0;32m-> 2211\u001B[0m     values, tz_parsed \u001B[38;5;241m=\u001B[39m \u001B[43mconversion\u001B[49m\u001B[38;5;241;43m.\u001B[39;49m\u001B[43mdatetime_to_datetime64\u001B[49m\u001B[43m(\u001B[49m\u001B[43mdata\u001B[49m\u001B[38;5;241;43m.\u001B[39;49m\u001B[43mravel\u001B[49m\u001B[43m(\u001B[49m\u001B[38;5;124;43m\"\u001B[39;49m\u001B[38;5;124;43mK\u001B[39;49m\u001B[38;5;124;43m\"\u001B[39;49m\u001B[43m)\u001B[49m\u001B[43m)\u001B[49m\n\u001B[1;32m   2212\u001B[0m     \u001B[38;5;66;03m# If tzaware, these values represent unix timestamps, so we\u001B[39;00m\n\u001B[1;32m   2213\u001B[0m     \u001B[38;5;66;03m#  return them as i8 to distinguish from wall times\u001B[39;00m\n",
      "File \u001B[0;32m~/opt/anaconda3/lib/python3.9/site-packages/pandas/_libs/tslibs/conversion.pyx:360\u001B[0m, in \u001B[0;36mpandas._libs.tslibs.conversion.datetime_to_datetime64\u001B[0;34m()\u001B[0m\n",
      "\u001B[0;31mTypeError\u001B[0m: Unrecognized value type: <class 'str'>",
      "\nDuring handling of the above exception, another exception occurred:\n",
      "\u001B[0;31mValueError\u001B[0m                                Traceback (most recent call last)",
      "Input \u001B[0;32mIn [16]\u001B[0m, in \u001B[0;36m<cell line: 1>\u001B[0;34m()\u001B[0m\n\u001B[0;32m----> 1\u001B[0m df[\u001B[38;5;124m'\u001B[39m\u001B[38;5;124mDate&Time\u001B[39m\u001B[38;5;124m'\u001B[39m]\u001B[38;5;241m=\u001B[39m \u001B[43mpd\u001B[49m\u001B[38;5;241;43m.\u001B[39;49m\u001B[43mto_datetime\u001B[49m\u001B[43m(\u001B[49m\u001B[43mdf\u001B[49m\u001B[43m[\u001B[49m\u001B[38;5;124;43m'\u001B[39;49m\u001B[38;5;124;43mDate&Time\u001B[39;49m\u001B[38;5;124;43m'\u001B[39;49m\u001B[43m]\u001B[49m\u001B[43m,\u001B[49m\u001B[43m \u001B[49m\u001B[38;5;28;43mformat\u001B[39;49m\u001B[38;5;241;43m=\u001B[39;49m\u001B[38;5;124;43m'\u001B[39;49m\u001B[38;5;124;43m%\u001B[39;49m\u001B[38;5;124;43mY-\u001B[39;49m\u001B[38;5;124;43m%\u001B[39;49m\u001B[38;5;124;43mm-\u001B[39;49m\u001B[38;5;132;43;01m%d\u001B[39;49;00m\u001B[38;5;124;43m'\u001B[39;49m\u001B[43m)\u001B[49m\n",
      "File \u001B[0;32m~/opt/anaconda3/lib/python3.9/site-packages/pandas/core/tools/datetimes.py:1051\u001B[0m, in \u001B[0;36mto_datetime\u001B[0;34m(arg, errors, dayfirst, yearfirst, utc, format, exact, unit, infer_datetime_format, origin, cache)\u001B[0m\n\u001B[1;32m   1049\u001B[0m         result \u001B[38;5;241m=\u001B[39m arg\u001B[38;5;241m.\u001B[39mmap(cache_array)\n\u001B[1;32m   1050\u001B[0m     \u001B[38;5;28;01melse\u001B[39;00m:\n\u001B[0;32m-> 1051\u001B[0m         values \u001B[38;5;241m=\u001B[39m \u001B[43mconvert_listlike\u001B[49m\u001B[43m(\u001B[49m\u001B[43marg\u001B[49m\u001B[38;5;241;43m.\u001B[39;49m\u001B[43m_values\u001B[49m\u001B[43m,\u001B[49m\u001B[43m \u001B[49m\u001B[38;5;28;43mformat\u001B[39;49m\u001B[43m)\u001B[49m\n\u001B[1;32m   1052\u001B[0m         result \u001B[38;5;241m=\u001B[39m arg\u001B[38;5;241m.\u001B[39m_constructor(values, index\u001B[38;5;241m=\u001B[39marg\u001B[38;5;241m.\u001B[39mindex, name\u001B[38;5;241m=\u001B[39marg\u001B[38;5;241m.\u001B[39mname)\n\u001B[1;32m   1053\u001B[0m \u001B[38;5;28;01melif\u001B[39;00m \u001B[38;5;28misinstance\u001B[39m(arg, (ABCDataFrame, abc\u001B[38;5;241m.\u001B[39mMutableMapping)):\n",
      "File \u001B[0;32m~/opt/anaconda3/lib/python3.9/site-packages/pandas/core/tools/datetimes.py:402\u001B[0m, in \u001B[0;36m_convert_listlike_datetimes\u001B[0;34m(arg, format, name, tz, unit, errors, infer_datetime_format, dayfirst, yearfirst, exact)\u001B[0m\n\u001B[1;32m    400\u001B[0m \u001B[38;5;28;01massert\u001B[39;00m \u001B[38;5;28mformat\u001B[39m \u001B[38;5;129;01mis\u001B[39;00m \u001B[38;5;28;01mNone\u001B[39;00m \u001B[38;5;129;01mor\u001B[39;00m infer_datetime_format\n\u001B[1;32m    401\u001B[0m utc \u001B[38;5;241m=\u001B[39m tz \u001B[38;5;241m==\u001B[39m \u001B[38;5;124m\"\u001B[39m\u001B[38;5;124mutc\u001B[39m\u001B[38;5;124m\"\u001B[39m\n\u001B[0;32m--> 402\u001B[0m result, tz_parsed \u001B[38;5;241m=\u001B[39m \u001B[43mobjects_to_datetime64ns\u001B[49m\u001B[43m(\u001B[49m\n\u001B[1;32m    403\u001B[0m \u001B[43m    \u001B[49m\u001B[43marg\u001B[49m\u001B[43m,\u001B[49m\n\u001B[1;32m    404\u001B[0m \u001B[43m    \u001B[49m\u001B[43mdayfirst\u001B[49m\u001B[38;5;241;43m=\u001B[39;49m\u001B[43mdayfirst\u001B[49m\u001B[43m,\u001B[49m\n\u001B[1;32m    405\u001B[0m \u001B[43m    \u001B[49m\u001B[43myearfirst\u001B[49m\u001B[38;5;241;43m=\u001B[39;49m\u001B[43myearfirst\u001B[49m\u001B[43m,\u001B[49m\n\u001B[1;32m    406\u001B[0m \u001B[43m    \u001B[49m\u001B[43mutc\u001B[49m\u001B[38;5;241;43m=\u001B[39;49m\u001B[43mutc\u001B[49m\u001B[43m,\u001B[49m\n\u001B[1;32m    407\u001B[0m \u001B[43m    \u001B[49m\u001B[43merrors\u001B[49m\u001B[38;5;241;43m=\u001B[39;49m\u001B[43merrors\u001B[49m\u001B[43m,\u001B[49m\n\u001B[1;32m    408\u001B[0m \u001B[43m    \u001B[49m\u001B[43mrequire_iso8601\u001B[49m\u001B[38;5;241;43m=\u001B[39;49m\u001B[43mrequire_iso8601\u001B[49m\u001B[43m,\u001B[49m\n\u001B[1;32m    409\u001B[0m \u001B[43m    \u001B[49m\u001B[43mallow_object\u001B[49m\u001B[38;5;241;43m=\u001B[39;49m\u001B[38;5;28;43;01mTrue\u001B[39;49;00m\u001B[43m,\u001B[49m\n\u001B[1;32m    410\u001B[0m \u001B[43m\u001B[49m\u001B[43m)\u001B[49m\n\u001B[1;32m    412\u001B[0m \u001B[38;5;28;01mif\u001B[39;00m tz_parsed \u001B[38;5;129;01mis\u001B[39;00m \u001B[38;5;129;01mnot\u001B[39;00m \u001B[38;5;28;01mNone\u001B[39;00m:\n\u001B[1;32m    413\u001B[0m     \u001B[38;5;66;03m# We can take a shortcut since the datetime64 numpy array\u001B[39;00m\n\u001B[1;32m    414\u001B[0m     \u001B[38;5;66;03m# is in UTC\u001B[39;00m\n\u001B[1;32m    415\u001B[0m     dta \u001B[38;5;241m=\u001B[39m DatetimeArray(result, dtype\u001B[38;5;241m=\u001B[39mtz_to_dtype(tz_parsed))\n",
      "File \u001B[0;32m~/opt/anaconda3/lib/python3.9/site-packages/pandas/core/arrays/datetimes.py:2217\u001B[0m, in \u001B[0;36mobjects_to_datetime64ns\u001B[0;34m(data, dayfirst, yearfirst, utc, errors, require_iso8601, allow_object, allow_mixed)\u001B[0m\n\u001B[1;32m   2215\u001B[0m         \u001B[38;5;28;01mreturn\u001B[39;00m values\u001B[38;5;241m.\u001B[39mview(\u001B[38;5;124m\"\u001B[39m\u001B[38;5;124mi8\u001B[39m\u001B[38;5;124m\"\u001B[39m), tz_parsed\n\u001B[1;32m   2216\u001B[0m     \u001B[38;5;28;01mexcept\u001B[39;00m (\u001B[38;5;167;01mValueError\u001B[39;00m, \u001B[38;5;167;01mTypeError\u001B[39;00m):\n\u001B[0;32m-> 2217\u001B[0m         \u001B[38;5;28;01mraise\u001B[39;00m err\n\u001B[1;32m   2219\u001B[0m \u001B[38;5;28;01mif\u001B[39;00m tz_parsed \u001B[38;5;129;01mis\u001B[39;00m \u001B[38;5;129;01mnot\u001B[39;00m \u001B[38;5;28;01mNone\u001B[39;00m:\n\u001B[1;32m   2220\u001B[0m     \u001B[38;5;66;03m# We can take a shortcut since the datetime64 numpy array\u001B[39;00m\n\u001B[1;32m   2221\u001B[0m     \u001B[38;5;66;03m#  is in UTC\u001B[39;00m\n\u001B[1;32m   2222\u001B[0m     \u001B[38;5;66;03m# Return i8 values to denote unix timestamps\u001B[39;00m\n\u001B[1;32m   2223\u001B[0m     \u001B[38;5;28;01mreturn\u001B[39;00m result\u001B[38;5;241m.\u001B[39mview(\u001B[38;5;124m\"\u001B[39m\u001B[38;5;124mi8\u001B[39m\u001B[38;5;124m\"\u001B[39m), tz_parsed\n",
      "File \u001B[0;32m~/opt/anaconda3/lib/python3.9/site-packages/pandas/core/arrays/datetimes.py:2199\u001B[0m, in \u001B[0;36mobjects_to_datetime64ns\u001B[0;34m(data, dayfirst, yearfirst, utc, errors, require_iso8601, allow_object, allow_mixed)\u001B[0m\n\u001B[1;32m   2197\u001B[0m order: Literal[\u001B[38;5;124m\"\u001B[39m\u001B[38;5;124mF\u001B[39m\u001B[38;5;124m\"\u001B[39m, \u001B[38;5;124m\"\u001B[39m\u001B[38;5;124mC\u001B[39m\u001B[38;5;124m\"\u001B[39m] \u001B[38;5;241m=\u001B[39m \u001B[38;5;124m\"\u001B[39m\u001B[38;5;124mF\u001B[39m\u001B[38;5;124m\"\u001B[39m \u001B[38;5;28;01mif\u001B[39;00m flags\u001B[38;5;241m.\u001B[39mf_contiguous \u001B[38;5;28;01melse\u001B[39;00m \u001B[38;5;124m\"\u001B[39m\u001B[38;5;124mC\u001B[39m\u001B[38;5;124m\"\u001B[39m\n\u001B[1;32m   2198\u001B[0m \u001B[38;5;28;01mtry\u001B[39;00m:\n\u001B[0;32m-> 2199\u001B[0m     result, tz_parsed \u001B[38;5;241m=\u001B[39m \u001B[43mtslib\u001B[49m\u001B[38;5;241;43m.\u001B[39;49m\u001B[43marray_to_datetime\u001B[49m\u001B[43m(\u001B[49m\n\u001B[1;32m   2200\u001B[0m \u001B[43m        \u001B[49m\u001B[43mdata\u001B[49m\u001B[38;5;241;43m.\u001B[39;49m\u001B[43mravel\u001B[49m\u001B[43m(\u001B[49m\u001B[38;5;124;43m\"\u001B[39;49m\u001B[38;5;124;43mK\u001B[39;49m\u001B[38;5;124;43m\"\u001B[39;49m\u001B[43m)\u001B[49m\u001B[43m,\u001B[49m\n\u001B[1;32m   2201\u001B[0m \u001B[43m        \u001B[49m\u001B[43merrors\u001B[49m\u001B[38;5;241;43m=\u001B[39;49m\u001B[43merrors\u001B[49m\u001B[43m,\u001B[49m\n\u001B[1;32m   2202\u001B[0m \u001B[43m        \u001B[49m\u001B[43mutc\u001B[49m\u001B[38;5;241;43m=\u001B[39;49m\u001B[43mutc\u001B[49m\u001B[43m,\u001B[49m\n\u001B[1;32m   2203\u001B[0m \u001B[43m        \u001B[49m\u001B[43mdayfirst\u001B[49m\u001B[38;5;241;43m=\u001B[39;49m\u001B[43mdayfirst\u001B[49m\u001B[43m,\u001B[49m\n\u001B[1;32m   2204\u001B[0m \u001B[43m        \u001B[49m\u001B[43myearfirst\u001B[49m\u001B[38;5;241;43m=\u001B[39;49m\u001B[43myearfirst\u001B[49m\u001B[43m,\u001B[49m\n\u001B[1;32m   2205\u001B[0m \u001B[43m        \u001B[49m\u001B[43mrequire_iso8601\u001B[49m\u001B[38;5;241;43m=\u001B[39;49m\u001B[43mrequire_iso8601\u001B[49m\u001B[43m,\u001B[49m\n\u001B[1;32m   2206\u001B[0m \u001B[43m        \u001B[49m\u001B[43mallow_mixed\u001B[49m\u001B[38;5;241;43m=\u001B[39;49m\u001B[43mallow_mixed\u001B[49m\u001B[43m,\u001B[49m\n\u001B[1;32m   2207\u001B[0m \u001B[43m    \u001B[49m\u001B[43m)\u001B[49m\n\u001B[1;32m   2208\u001B[0m     result \u001B[38;5;241m=\u001B[39m result\u001B[38;5;241m.\u001B[39mreshape(data\u001B[38;5;241m.\u001B[39mshape, order\u001B[38;5;241m=\u001B[39morder)\n\u001B[1;32m   2209\u001B[0m \u001B[38;5;28;01mexcept\u001B[39;00m \u001B[38;5;167;01mValueError\u001B[39;00m \u001B[38;5;28;01mas\u001B[39;00m err:\n",
      "File \u001B[0;32m~/opt/anaconda3/lib/python3.9/site-packages/pandas/_libs/tslib.pyx:381\u001B[0m, in \u001B[0;36mpandas._libs.tslib.array_to_datetime\u001B[0;34m()\u001B[0m\n",
      "File \u001B[0;32m~/opt/anaconda3/lib/python3.9/site-packages/pandas/_libs/tslib.pyx:530\u001B[0m, in \u001B[0;36mpandas._libs.tslib.array_to_datetime\u001B[0;34m()\u001B[0m\n",
      "\u001B[0;31mValueError\u001B[0m: time data 18-02-2022 01:19 doesn't match format specified"
     ]
    }
   ],
   "source": [
    "df['Date&Time']= pd.to_datetime(df['Date&Time'], format='%Y-%m-%d')"
   ]
  },
  {
   "cell_type": "code",
   "execution_count": null,
   "id": "0d8e8637-3811-470c-ba77-2ca0244ef787",
   "metadata": {
    "pycharm": {
     "name": "#%%\n"
    }
   },
   "outputs": [],
   "source": [
    "df.info()"
   ]
  },
  {
   "cell_type": "code",
   "execution_count": null,
   "id": "fb97a310-044f-4806-8dc6-8813622728ae",
   "metadata": {
    "pycharm": {
     "name": "#%%\n"
    }
   },
   "outputs": [],
   "source": [
    "df_clean = df.dropna(how='all').drop(['Unnamed: 0', '#ThumbsUp', 'Name', 'Review'], axis=1).copy()"
   ]
  },
  {
   "cell_type": "code",
   "execution_count": null,
   "id": "e1222507-97e0-42b1-83ff-9a9f82067aec",
   "metadata": {
    "pycharm": {
     "name": "#%%\n"
    }
   },
   "outputs": [],
   "source": [
    "df_clean.head() "
   ]
  },
  {
   "cell_type": "code",
   "execution_count": null,
   "id": "cedda4ae-d671-4dfb-b456-eda337a56af6",
   "metadata": {
    "pycharm": {
     "name": "#%%\n"
    }
   },
   "outputs": [],
   "source": [
    "df_clean[['App', 'Rating', 'Date&Time']]"
   ]
  },
  {
   "cell_type": "code",
   "execution_count": null,
   "id": "1b5c2794-f10b-41ed-a621-80acad67423c",
   "metadata": {
    "pycharm": {
     "name": "#%%\n"
    }
   },
   "outputs": [],
   "source": [
    "df_app_rating = pd.DataFrame(df_clean[['App', 'Rating', 'Date&Time']])\n",
    "df_app_rating"
   ]
  },
  {
   "cell_type": "code",
   "execution_count": null,
   "id": "dd950606-d7e7-43ed-9c3e-9f09a378bc7f",
   "metadata": {
    "pycharm": {
     "name": "#%%\n"
    }
   },
   "outputs": [],
   "source": [
    "df_app_rating['Year'] = pd.DatetimeIndex(df_app_rating['Date&Time']).year\n",
    "df_app_rating"
   ]
  },
  {
   "cell_type": "code",
   "execution_count": null,
   "id": "80c16a6c-f340-495e-953d-2c6101e7367d",
   "metadata": {
    "pycharm": {
     "name": "#%%\n"
    }
   },
   "outputs": [],
   "source": [
    "df_high_rating = df_app_rating['Rating'] == 5 | df_app_rating['Year'] == 2022"
   ]
  },
  {
   "cell_type": "code",
   "execution_count": null,
   "id": "48dab9bd-25ea-4908-a889-43bc04335491",
   "metadata": {
    "pycharm": {
     "name": "#%%\n"
    }
   },
   "outputs": [],
   "source": []
  }
 ],
 "metadata": {
  "kernelspec": {
   "display_name": "Python 3 (ipykernel)",
   "language": "python",
   "name": "python3"
  },
  "language_info": {
   "codemirror_mode": {
    "name": "ipython",
    "version": 3
   },
   "file_extension": ".py",
   "mimetype": "text/x-python",
   "name": "python",
   "nbconvert_exporter": "python",
   "pygments_lexer": "ipython3",
   "version": "3.9.12"
  }
 },
 "nbformat": 4,
 "nbformat_minor": 5
}