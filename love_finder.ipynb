{
 "cells": [
  {
   "cell_type": "code",
   "execution_count": 5,
   "outputs": [],
   "source": [
    "# Dependencies\n",
    "import os\n",
    "import pandas as pd\n",
    "from bs4 import BeautifulSoup as bs\n",
    "import pymongo as pm"
   ],
   "metadata": {
    "collapsed": false,
    "pycharm": {
     "name": "#%%\n"
    }
   }
  },
  {
   "cell_type": "markdown",
   "source": [
    "# Extract"
   ],
   "metadata": {
    "collapsed": false,
    "pycharm": {
     "name": "#%% md\n"
    }
   }
  },
  {
   "cell_type": "code",
   "execution_count": 6,
   "outputs": [],
   "source": [
    "# During data extraction, raw data is copied or exported from source locations"
   ],
   "metadata": {
    "collapsed": false,
    "pycharm": {
     "name": "#%%\n"
    }
   }
  },
  {
   "cell_type": "markdown",
   "source": [
    "### Speed Dating Data\n"
   ],
   "metadata": {
    "collapsed": false,
    "pycharm": {
     "name": "#%% md\n"
    }
   }
  },
  {
   "cell_type": "code",
   "execution_count": 7,
   "outputs": [
    {
     "data": {
      "text/plain": "   has_null  wave  gender   age  age_o  d_age d_d_age  \\\n0         0     1  female  21.0   27.0      6   [4-6]   \n1         0     1  female  21.0   22.0      1   [0-1]   \n2         1     1  female  21.0   22.0      1   [0-1]   \n3         0     1  female  21.0   23.0      2   [2-3]   \n4         0     1  female  21.0   24.0      3   [2-3]   \n\n                                    race  \\\n0  asian/pacific islander/asian-american   \n1  asian/pacific islander/asian-american   \n2  asian/pacific islander/asian-american   \n3  asian/pacific islander/asian-american   \n4  asian/pacific islander/asian-american   \n\n                                  race_o  samerace  ...  \\\n0            european/caucasian-american         0  ...   \n1            european/caucasian-american         0  ...   \n2  asian/pacific islander/asian-american         1  ...   \n3            european/caucasian-american         0  ...   \n4               latino/hispanic american         0  ...   \n\n   d_expected_num_interested_in_me  d_expected_num_matches like  \\\n0                            [0-3]                   [3-5]  7.0   \n1                            [0-3]                   [3-5]  7.0   \n2                            [0-3]                   [3-5]  7.0   \n3                            [0-3]                   [3-5]  7.0   \n4                            [0-3]                   [3-5]  6.0   \n\n  guess_prob_liked d_like  d_guess_prob_liked  met  decision  decision_o  \\\n0              6.0  [6-8]               [5-6]  0.0         1           0   \n1              5.0  [6-8]               [5-6]  1.0         1           0   \n2              NaN  [6-8]               [0-4]  1.0         1           1   \n3              6.0  [6-8]               [5-6]  0.0         1           1   \n4              6.0  [6-8]               [5-6]  0.0         1           1   \n\n   match  \n0      0  \n1      0  \n2      1  \n3      1  \n4      1  \n\n[5 rows x 123 columns]",
      "text/html": "<div>\n<style scoped>\n    .dataframe tbody tr th:only-of-type {\n        vertical-align: middle;\n    }\n\n    .dataframe tbody tr th {\n        vertical-align: top;\n    }\n\n    .dataframe thead th {\n        text-align: right;\n    }\n</style>\n<table border=\"1\" class=\"dataframe\">\n  <thead>\n    <tr style=\"text-align: right;\">\n      <th></th>\n      <th>has_null</th>\n      <th>wave</th>\n      <th>gender</th>\n      <th>age</th>\n      <th>age_o</th>\n      <th>d_age</th>\n      <th>d_d_age</th>\n      <th>race</th>\n      <th>race_o</th>\n      <th>samerace</th>\n      <th>...</th>\n      <th>d_expected_num_interested_in_me</th>\n      <th>d_expected_num_matches</th>\n      <th>like</th>\n      <th>guess_prob_liked</th>\n      <th>d_like</th>\n      <th>d_guess_prob_liked</th>\n      <th>met</th>\n      <th>decision</th>\n      <th>decision_o</th>\n      <th>match</th>\n    </tr>\n  </thead>\n  <tbody>\n    <tr>\n      <th>0</th>\n      <td>0</td>\n      <td>1</td>\n      <td>female</td>\n      <td>21.0</td>\n      <td>27.0</td>\n      <td>6</td>\n      <td>[4-6]</td>\n      <td>asian/pacific islander/asian-american</td>\n      <td>european/caucasian-american</td>\n      <td>0</td>\n      <td>...</td>\n      <td>[0-3]</td>\n      <td>[3-5]</td>\n      <td>7.0</td>\n      <td>6.0</td>\n      <td>[6-8]</td>\n      <td>[5-6]</td>\n      <td>0.0</td>\n      <td>1</td>\n      <td>0</td>\n      <td>0</td>\n    </tr>\n    <tr>\n      <th>1</th>\n      <td>0</td>\n      <td>1</td>\n      <td>female</td>\n      <td>21.0</td>\n      <td>22.0</td>\n      <td>1</td>\n      <td>[0-1]</td>\n      <td>asian/pacific islander/asian-american</td>\n      <td>european/caucasian-american</td>\n      <td>0</td>\n      <td>...</td>\n      <td>[0-3]</td>\n      <td>[3-5]</td>\n      <td>7.0</td>\n      <td>5.0</td>\n      <td>[6-8]</td>\n      <td>[5-6]</td>\n      <td>1.0</td>\n      <td>1</td>\n      <td>0</td>\n      <td>0</td>\n    </tr>\n    <tr>\n      <th>2</th>\n      <td>1</td>\n      <td>1</td>\n      <td>female</td>\n      <td>21.0</td>\n      <td>22.0</td>\n      <td>1</td>\n      <td>[0-1]</td>\n      <td>asian/pacific islander/asian-american</td>\n      <td>asian/pacific islander/asian-american</td>\n      <td>1</td>\n      <td>...</td>\n      <td>[0-3]</td>\n      <td>[3-5]</td>\n      <td>7.0</td>\n      <td>NaN</td>\n      <td>[6-8]</td>\n      <td>[0-4]</td>\n      <td>1.0</td>\n      <td>1</td>\n      <td>1</td>\n      <td>1</td>\n    </tr>\n    <tr>\n      <th>3</th>\n      <td>0</td>\n      <td>1</td>\n      <td>female</td>\n      <td>21.0</td>\n      <td>23.0</td>\n      <td>2</td>\n      <td>[2-3]</td>\n      <td>asian/pacific islander/asian-american</td>\n      <td>european/caucasian-american</td>\n      <td>0</td>\n      <td>...</td>\n      <td>[0-3]</td>\n      <td>[3-5]</td>\n      <td>7.0</td>\n      <td>6.0</td>\n      <td>[6-8]</td>\n      <td>[5-6]</td>\n      <td>0.0</td>\n      <td>1</td>\n      <td>1</td>\n      <td>1</td>\n    </tr>\n    <tr>\n      <th>4</th>\n      <td>0</td>\n      <td>1</td>\n      <td>female</td>\n      <td>21.0</td>\n      <td>24.0</td>\n      <td>3</td>\n      <td>[2-3]</td>\n      <td>asian/pacific islander/asian-american</td>\n      <td>latino/hispanic american</td>\n      <td>0</td>\n      <td>...</td>\n      <td>[0-3]</td>\n      <td>[3-5]</td>\n      <td>6.0</td>\n      <td>6.0</td>\n      <td>[6-8]</td>\n      <td>[5-6]</td>\n      <td>0.0</td>\n      <td>1</td>\n      <td>1</td>\n      <td>1</td>\n    </tr>\n  </tbody>\n</table>\n<p>5 rows × 123 columns</p>\n</div>"
     },
     "execution_count": 7,
     "metadata": {},
     "output_type": "execute_result"
    }
   ],
   "source": [
    "# Reading the csv file\n",
    "csv_file = \"resources/speed-dating.csv\"\n",
    "date_speed_df = pd.read_csv(csv_file)\n",
    "date_speed_df.head()"
   ],
   "metadata": {
    "collapsed": false,
    "pycharm": {
     "name": "#%%\n"
    }
   }
  },
  {
   "cell_type": "markdown",
   "source": [
    "### Reviews Data"
   ],
   "metadata": {
    "collapsed": false,
    "pycharm": {
     "name": "#%% md\n"
    }
   }
  },
  {
   "cell_type": "code",
   "execution_count": 8,
   "outputs": [
    {
     "data": {
      "text/plain": "   Unnamed: 0              Name  \\\n0           0     linah sibanda   \n1           1    Norman Johnson   \n2           2        David Hume   \n3           3   Last 1 Standing   \n4           4  Arthur Magamedov   \n\n                                              Review  Rating  #ThumbsUp  \\\n0                  On this app i cant find a partner       5          0   \n1  Tinder would be so much better if we could spe...       3          0   \n2  Still doesn't correctly notify matches or mess...       1          0   \n3  Got banned because I updated my bio to say \"I ...       2          0   \n4                                           Love it!       5          0   \n\n          Date&Time     App  \n0  18-02-2022 01:19  Tinder  \n1  18-02-2022 01:16  Tinder  \n2  18-02-2022 01:11  Tinder  \n3  18-02-2022 01:11  Tinder  \n4  18-02-2022 01:06  Tinder  ",
      "text/html": "<div>\n<style scoped>\n    .dataframe tbody tr th:only-of-type {\n        vertical-align: middle;\n    }\n\n    .dataframe tbody tr th {\n        vertical-align: top;\n    }\n\n    .dataframe thead th {\n        text-align: right;\n    }\n</style>\n<table border=\"1\" class=\"dataframe\">\n  <thead>\n    <tr style=\"text-align: right;\">\n      <th></th>\n      <th>Unnamed: 0</th>\n      <th>Name</th>\n      <th>Review</th>\n      <th>Rating</th>\n      <th>#ThumbsUp</th>\n      <th>Date&amp;Time</th>\n      <th>App</th>\n    </tr>\n  </thead>\n  <tbody>\n    <tr>\n      <th>0</th>\n      <td>0</td>\n      <td>linah sibanda</td>\n      <td>On this app i cant find a partner</td>\n      <td>5</td>\n      <td>0</td>\n      <td>18-02-2022 01:19</td>\n      <td>Tinder</td>\n    </tr>\n    <tr>\n      <th>1</th>\n      <td>1</td>\n      <td>Norman Johnson</td>\n      <td>Tinder would be so much better if we could spe...</td>\n      <td>3</td>\n      <td>0</td>\n      <td>18-02-2022 01:16</td>\n      <td>Tinder</td>\n    </tr>\n    <tr>\n      <th>2</th>\n      <td>2</td>\n      <td>David Hume</td>\n      <td>Still doesn't correctly notify matches or mess...</td>\n      <td>1</td>\n      <td>0</td>\n      <td>18-02-2022 01:11</td>\n      <td>Tinder</td>\n    </tr>\n    <tr>\n      <th>3</th>\n      <td>3</td>\n      <td>Last 1 Standing</td>\n      <td>Got banned because I updated my bio to say \"I ...</td>\n      <td>2</td>\n      <td>0</td>\n      <td>18-02-2022 01:11</td>\n      <td>Tinder</td>\n    </tr>\n    <tr>\n      <th>4</th>\n      <td>4</td>\n      <td>Arthur Magamedov</td>\n      <td>Love it!</td>\n      <td>5</td>\n      <td>0</td>\n      <td>18-02-2022 01:06</td>\n      <td>Tinder</td>\n    </tr>\n  </tbody>\n</table>\n</div>"
     },
     "execution_count": 8,
     "metadata": {},
     "output_type": "execute_result"
    }
   ],
   "source": [
    "reviews_df = pd.read_csv('resources/reviews.csv')\n",
    "reviews_df.head()"
   ],
   "metadata": {
    "collapsed": false,
    "pycharm": {
     "name": "#%%\n"
    }
   }
  },
  {
   "cell_type": "markdown",
   "source": [
    "### Data from website to be scrapped"
   ],
   "metadata": {
    "collapsed": false,
    "pycharm": {
     "name": "#%% md\n"
    }
   }
  },
  {
   "cell_type": "markdown",
   "source": [
    "# Transform\n",
    "### Data cleansing and transformation"
   ],
   "metadata": {
    "collapsed": false,
    "pycharm": {
     "name": "#%% md\n"
    }
   }
  },
  {
   "cell_type": "markdown",
   "source": [
    "# Load"
   ],
   "metadata": {
    "collapsed": false,
    "pycharm": {
     "name": "#%% md\n"
    }
   }
  },
  {
   "cell_type": "code",
   "execution_count": 8,
   "outputs": [],
   "source": [],
   "metadata": {
    "collapsed": false,
    "pycharm": {
     "name": "#%%\n"
    }
   }
  }
 ],
 "metadata": {
  "kernelspec": {
   "display_name": "Python 3",
   "language": "python",
   "name": "python3"
  },
  "language_info": {
   "codemirror_mode": {
    "name": "ipython",
    "version": 2
   },
   "file_extension": ".py",
   "mimetype": "text/x-python",
   "name": "python",
   "nbconvert_exporter": "python",
   "pygments_lexer": "ipython2",
   "version": "2.7.6"
  }
 },
 "nbformat": 4,
 "nbformat_minor": 0
}